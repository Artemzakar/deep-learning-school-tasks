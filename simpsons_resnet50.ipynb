{
  "nbformat": 4,
  "nbformat_minor": 0,
  "metadata": {
    "colab": {
      "provenance": []
    },
    "kernelspec": {
      "name": "python3",
      "display_name": "Python 3"
    },
    "accelerator": "GPU"
  },
  "cells": [
    {
      "cell_type": "markdown",
      "source": [
        "### **Ник на Kaggle: Артём_Закарейшвили_158812417**"
      ],
      "metadata": {
        "id": "O3dAfkmRJ-Sl"
      }
    },
    {
      "cell_type": "markdown",
      "metadata": {
        "id": "Xw7YkEefehWo"
      },
      "source": [
        "# Домашнее задание. Классификация изображений\n",
        "\n",
        "Сегодня вам предстоить помочь телекомпании FOX в обработке их контента. Как вы знаете, сериал \"Симпсоны\" идет на телеэкранах более 25 лет, и за это время скопилось очень много видеоматериала. Персоонажи менялись вместе с изменяющимися графическими технологиями, и Гомер Симпсон-2018 не очень похож на Гомера Симпсона-1989. В этом задании вам необходимо классифицировать персонажей, проживающих в Спрингфилде. Думаю, нет смысла представлять каждого из них в отдельности.\n",
        "\n"
      ]
    },
    {
      "cell_type": "markdown",
      "metadata": {
        "id": "h3M9SQZ7MuUq"
      },
      "source": [
        "## Приключение?\n",
        "\n",
        "А теперь самое интересное, мы сделали простенькую сверточную сеть и смогли отправить сабмит, но получившийся скор нас явно не устраивает. Надо с этим что-то сделать.\n",
        "\n",
        "Несколько срочныйх улучшейни для нашей сети, которые наверняка пришли Вам в голову:\n",
        "\n",
        "\n",
        "*   Учим дольше и изменяем гиперпараметры сети\n",
        "*  learning rate, batch size, нормализация картинки и вот это всё\n",
        "*   Кто же так строит нейронные сети? А где пулинги и батч нормы? Надо добавлять\n",
        "*  Ну разве Адам наше все? [adamW](https://www.fast.ai/2018/07/02/adam-weight-decay/) для практика, [статейка для любителей](https://openreview.net/pdf?id=ryQu7f-RZ) (очень хороший анализ), [наши ](https://github.com/MichaelKonobeev/adashift/) эксперименты для заинтересованных.\n",
        "\n",
        "* Ну разве это deep learning? Вот ResNet и Inception, которые можно зафайнтьюнить под наши данные, вот это я понимаю (можно и обучить в колабе, а можно и [готовые](https://github.com/Cadene/pretrained-models.pytorch) скачать).\n",
        "\n",
        "* Данных не очень много, можно их аугументировать и  доучититься на новом датасете ( который уже будет состоять из, как  пример аугументации, перевернутых изображений)\n",
        "\n",
        "* Стоит подумать об ансамблях\n",
        "\n",
        "\n",
        "Надеюсь, что у Вас получится!\n",
        "\n",
        "![alt text](https://pbs.twimg.com/profile_images/798904974986113024/adcQiVdV.jpg)\n"
      ]
    },
    {
      "cell_type": "code",
      "source": [
        "import torch\n",
        "import numpy as np\n",
        "\n",
        "train_on_gpu = torch.cuda.is_available()\n",
        "\n",
        "if not train_on_gpu:\n",
        "    print('CUDA is not available.  Training on CPU ...')\n",
        "else:\n",
        "    print('CUDA is available!  Training on GPU ...')"
      ],
      "metadata": {
        "id": "0ukcJl_g78nK",
        "colab": {
          "base_uri": "https://localhost:8080/"
        },
        "outputId": "fca8eda9-678c-49a9-bd45-b5f5048a9be3"
      },
      "execution_count": 2,
      "outputs": [
        {
          "output_type": "stream",
          "name": "stdout",
          "text": [
            "CUDA is available!  Training on GPU ...\n"
          ]
        }
      ]
    },
    {
      "cell_type": "code",
      "source": [
        "!gdown 1mgKW-CwwWvC3R3hSGGCPCSZIJwp35SsO"
      ],
      "metadata": {
        "colab": {
          "base_uri": "https://localhost:8080/"
        },
        "id": "HnZilrGp_kR6",
        "outputId": "2dbade4e-5ce4-4ed3-95fe-a22c20b644d0"
      },
      "execution_count": 3,
      "outputs": [
        {
          "output_type": "stream",
          "name": "stdout",
          "text": [
            "Downloading...\n",
            "From (original): https://drive.google.com/uc?id=1mgKW-CwwWvC3R3hSGGCPCSZIJwp35SsO\n",
            "From (redirected): https://drive.google.com/uc?id=1mgKW-CwwWvC3R3hSGGCPCSZIJwp35SsO&confirm=t&uuid=efca1c07-4451-41ed-a1e7-99202ee3ab7d\n",
            "To: /content/journey-springfield.zip\n",
            "100% 546M/546M [00:08<00:00, 60.7MB/s]\n"
          ]
        }
      ]
    },
    {
      "cell_type": "code",
      "source": [
        "!unzip -q journey-springfield.zip"
      ],
      "metadata": {
        "id": "rSJUvtdqAcvX"
      },
      "execution_count": 4,
      "outputs": []
    },
    {
      "cell_type": "code",
      "source": [
        "#Установка зависимостей\n",
        "import pickle\n",
        "import numpy as np\n",
        "from skimage import io\n",
        "\n",
        "from tqdm import tqdm, tqdm_notebook\n",
        "from PIL import Image\n",
        "from pathlib import Path\n",
        "\n",
        "from torchvision import transforms\n",
        "from multiprocessing.pool import ThreadPool\n",
        "from sklearn.preprocessing import LabelEncoder\n",
        "from torch.utils.data import Dataset, DataLoader\n",
        "import torch.nn as nn\n",
        "from sklearn.metrics import f1_score\n",
        "\n",
        "from matplotlib import colors, pyplot as plt\n",
        "%matplotlib inline\n",
        "\n",
        "# в sklearn не все гладко, чтобы в colab удобно выводить картинки\n",
        "# мы будем игнорировать warnings\n",
        "import warnings\n",
        "warnings.filterwarnings(action='ignore', category=DeprecationWarning)"
      ],
      "metadata": {
        "id": "9TO0XdpqBAf3"
      },
      "execution_count": 5,
      "outputs": []
    },
    {
      "cell_type": "code",
      "source": [
        "# разные режимы датасета\n",
        "DATA_MODES = ['train', 'val', 'test']\n",
        "# все изображения будут масштабированы к размеру 224x224 px\n",
        "RESCALE_SIZE = 224\n",
        "# работаем на видеокарте\n",
        "DEVICE = torch.device(\"cuda\")"
      ],
      "metadata": {
        "id": "-MTE8GiNBKOm"
      },
      "execution_count": 6,
      "outputs": []
    },
    {
      "cell_type": "code",
      "source": [
        "#Изменённый класс SimpsonsDataset (добавили transform, чтобы делать аугментации)\n",
        "class SimpsonsDataset(Dataset):\n",
        "    def __init__(self, files, mode, transform=None):\n",
        "        super().__init__()\n",
        "        self.files = sorted(files)\n",
        "        self.mode = mode\n",
        "        self.transform = transform  # добавляем параметр transform\n",
        "\n",
        "        if self.mode not in DATA_MODES:\n",
        "            print(f\"{self.mode} is not correct; correct modes: {DATA_MODES}\")\n",
        "            raise NameError\n",
        "\n",
        "        self.len_ = len(self.files)\n",
        "\n",
        "        self.label_encoder = LabelEncoder()\n",
        "\n",
        "        if self.mode != 'test':\n",
        "            self.labels = [path.parent.name for path in self.files]\n",
        "            self.label_encoder.fit(self.labels)\n",
        "\n",
        "            with open('label_encoder.pkl', 'wb') as le_dump_file:\n",
        "                pickle.dump(self.label_encoder, le_dump_file)\n",
        "\n",
        "    def __len__(self):\n",
        "        return self.len_\n",
        "\n",
        "    def load_sample(self, file):\n",
        "        image = Image.open(file)\n",
        "        image.load()\n",
        "        return image\n",
        "\n",
        "    def __getitem__(self, index):\n",
        "        x = self.load_sample(self.files[index])\n",
        "        x = self._prepare_sample(x)\n",
        "\n",
        "        # Применяем аугментацию, если она задана\n",
        "        if self.transform:\n",
        "            x = self.transform(x)\n",
        "\n",
        "        if self.mode == 'test':\n",
        "            return x\n",
        "        else:\n",
        "            label = self.labels[index]\n",
        "            label_id = self.label_encoder.transform([label])\n",
        "            y = label_id.item()\n",
        "            return x, y\n",
        "\n",
        "    def _prepare_sample(self, image):\n",
        "        image = image.resize((RESCALE_SIZE, RESCALE_SIZE))\n",
        "        return image"
      ],
      "metadata": {
        "id": "S29tWADvBMTP"
      },
      "execution_count": 7,
      "outputs": []
    },
    {
      "cell_type": "code",
      "source": [
        "#определим директории с тренировочными и тестовыми файлами\n",
        "TRAIN_DIR = Path('./train/')\n",
        "TEST_DIR = Path('./testset')\n",
        "\n",
        "train_val_files = sorted(list(TRAIN_DIR.rglob('*.jpg')))\n",
        "test_files = sorted(list(TEST_DIR.rglob('*.jpg')))\n",
        "\n",
        "from sklearn.model_selection import train_test_split\n",
        "\n",
        "train_val_labels = [path.parent.name for path in train_val_files]\n",
        "train_files, val_files = train_test_split(train_val_files, test_size=0.25, \\\n",
        "                                          stratify=train_val_labels)"
      ],
      "metadata": {
        "id": "PVAMz-LYBVND"
      },
      "execution_count": 8,
      "outputs": []
    },
    {
      "cell_type": "code",
      "source": [
        "#Аугментация и станадртная обработка для тренрировных данных\n",
        "train_transform = transforms.Compose([\n",
        "    transforms.RandomHorizontalFlip(),\n",
        "    transforms.RandomRotation(10),\n",
        "    transforms.ColorJitter(brightness=0.2, contrast=0.2, saturation=0.2, hue=0.1),\n",
        "    transforms.Resize((RESCALE_SIZE, RESCALE_SIZE)),\n",
        "    transforms.ToTensor(),\n",
        "    transforms.Normalize([0.485, 0.456, 0.406], [0.229, 0.224, 0.225])\n",
        "])\n",
        "\n",
        "#Стандартная обработка для данных для валидации\n",
        "val_transform = transforms.Compose([\n",
        "    transforms.Resize((RESCALE_SIZE, RESCALE_SIZE)),\n",
        "    transforms.ToTensor(),\n",
        "    transforms.Normalize([0.485, 0.456, 0.406], [0.229, 0.224, 0.225])\n",
        "])\n",
        "\n",
        "train_dataset = SimpsonsDataset(train_files, mode='train', transform=train_transform)\n",
        "val_dataset = SimpsonsDataset(val_files, mode='val', transform=val_transform)\n",
        "\n",
        "train_loader = DataLoader(train_dataset, batch_size=64, shuffle=True)\n",
        "val_loader = DataLoader(val_dataset, batch_size=64, shuffle=False)"
      ],
      "metadata": {
        "id": "ZyErTDTZCrxu"
      },
      "execution_count": 9,
      "outputs": []
    },
    {
      "cell_type": "code",
      "source": [
        "from torchvision.models import resnet50, ResNet50_Weights\n",
        "from torch import optim\n",
        "\n",
        "# Загружаем предобученную модель ResNet50\n",
        "model = resnet50(weights=ResNet50_Weights.IMAGENET1K_V1)\n",
        "\n",
        "# Заменяем финальный слой для классификации на 42 класса\n",
        "num_classes = 42\n",
        "num_features = model.fc.in_features\n",
        "model.fc = nn.Linear(num_features, num_classes)\n",
        "\n",
        "# Функция потерь\n",
        "criterion = nn.CrossEntropyLoss()\n",
        "\n",
        "# Оптимизатор (для полсденего слоя с классификацией lr больше, чем для остальных слоёв)\n",
        "optimizer = torch.optim.Adam([\n",
        "    {'params': model.fc.parameters(), 'lr': 1e-3},  # Последний слой с высоким LR\n",
        "    {'params': [param for name, param in model.named_parameters() if \"fc\" not in name], 'lr': 1e-4}  # Остальные слои с меньшим LR\n",
        "])\n",
        "\n",
        "# Перенос модели на устройство (GPU или CPU)\n",
        "model = model.to(DEVICE)"
      ],
      "metadata": {
        "colab": {
          "base_uri": "https://localhost:8080/"
        },
        "id": "2cAuvOs_C1sL",
        "outputId": "3bbf2d12-13bb-4cdd-952f-f7c7aad92df4"
      },
      "execution_count": 10,
      "outputs": [
        {
          "output_type": "stream",
          "name": "stderr",
          "text": [
            "Downloading: \"https://download.pytorch.org/models/resnet50-0676ba61.pth\" to /root/.cache/torch/hub/checkpoints/resnet50-0676ba61.pth\n",
            "100%|██████████| 97.8M/97.8M [00:00<00:00, 168MB/s]\n"
          ]
        }
      ]
    },
    {
      "cell_type": "code",
      "source": [
        "# Функция для тренировки модели\n",
        "def train_model(model, train_loader, optimizer, criterion, num_epochs=10):\n",
        "    model.train()\n",
        "    train_loss = []\n",
        "    train_f1_scores = []\n",
        "\n",
        "    for epoch in range(num_epochs):\n",
        "        running_loss = 0.0\n",
        "        all_labels = []\n",
        "        all_preds = []\n",
        "\n",
        "        for inputs, labels in train_loader:\n",
        "            inputs, labels = inputs.to(DEVICE), labels.to(DEVICE)\n",
        "\n",
        "            optimizer.zero_grad()\n",
        "\n",
        "            outputs = model(inputs)\n",
        "            loss = criterion(outputs, labels)\n",
        "\n",
        "            loss.backward()\n",
        "            optimizer.step()\n",
        "\n",
        "            running_loss += loss.item()\n",
        "            _, predicted = torch.max(outputs, 1)\n",
        "            all_labels.extend(labels.cpu().numpy())\n",
        "            all_preds.extend(predicted.cpu().numpy())\n",
        "\n",
        "        epoch_loss = running_loss / len(train_loader)\n",
        "        epoch_f1_score = f1_score(all_labels, all_preds, average='weighted')\n",
        "\n",
        "        train_loss.append(epoch_loss)\n",
        "        train_f1_scores.append(epoch_f1_score)\n",
        "\n",
        "        print(f'Epoch {epoch+1}/{num_epochs} - Loss: {epoch_loss:.4f} - F1 Score: {epoch_f1_score:.4f}')\n",
        "\n",
        "    return model, train_loss, train_f1_scores\n"
      ],
      "metadata": {
        "id": "oPiCTBY7Dw1y"
      },
      "execution_count": 11,
      "outputs": []
    },
    {
      "cell_type": "code",
      "source": [
        "#Функция для оценки модели на валдиации\n",
        "def evaluate_model(model, val_loader, criterion):\n",
        "    model.eval()\n",
        "    val_loss = 0.0\n",
        "    all_labels = []\n",
        "    all_preds = []\n",
        "\n",
        "    with torch.no_grad():\n",
        "        for inputs, labels in val_loader:\n",
        "            inputs, labels = inputs.to(DEVICE), labels.to(DEVICE)\n",
        "\n",
        "            # Прямой проход\n",
        "            outputs = model(inputs)\n",
        "            loss = criterion(outputs, labels)\n",
        "\n",
        "            # Подсчет статистики\n",
        "            val_loss += loss.item()\n",
        "\n",
        "            # Предсказания\n",
        "            _, predicted = torch.max(outputs, 1)\n",
        "            all_labels.extend(labels.cpu().numpy())\n",
        "            all_preds.extend(predicted.cpu().numpy())\n",
        "\n",
        "    val_loss /= len(val_loader)\n",
        "    val_f1_score = f1_score(all_labels, all_preds, average='weighted')\n",
        "\n",
        "    print(f'Validation - Loss: {val_loss:.4f} - F1 Score: {val_f1_score:.4f}')\n",
        "\n",
        "    return val_loss, val_f1_score\n"
      ],
      "metadata": {
        "id": "0LBCIetRKsAJ"
      },
      "execution_count": 12,
      "outputs": []
    },
    {
      "cell_type": "code",
      "source": [
        "num_epochs = 10  # Количество эпох\n",
        "\n",
        "# Тренировка модели\n",
        "model, train_loss, train_f1_scores = train_model(model, train_loader, optimizer, criterion, num_epochs)"
      ],
      "metadata": {
        "colab": {
          "base_uri": "https://localhost:8080/"
        },
        "id": "utNN6tW9K-S9",
        "outputId": "12bed7c4-0f13-48f2-f2d4-809dfafd0e00"
      },
      "execution_count": 13,
      "outputs": [
        {
          "output_type": "stream",
          "name": "stdout",
          "text": [
            "Epoch 1/10 - Loss: 0.6586 - F1 Score: 0.8277\n",
            "Epoch 2/10 - Loss: 0.1657 - F1 Score: 0.9549\n",
            "Epoch 3/10 - Loss: 0.1086 - F1 Score: 0.9711\n",
            "Epoch 4/10 - Loss: 0.0732 - F1 Score: 0.9800\n",
            "Epoch 5/10 - Loss: 0.0657 - F1 Score: 0.9819\n",
            "Epoch 6/10 - Loss: 0.0496 - F1 Score: 0.9860\n",
            "Epoch 7/10 - Loss: 0.0528 - F1 Score: 0.9849\n",
            "Epoch 8/10 - Loss: 0.0559 - F1 Score: 0.9848\n",
            "Epoch 9/10 - Loss: 0.0414 - F1 Score: 0.9880\n",
            "Epoch 10/10 - Loss: 0.0342 - F1 Score: 0.9907\n"
          ]
        }
      ]
    },
    {
      "cell_type": "code",
      "source": [
        "#Валидация модели после тренировки\n",
        "val_loss, val_f1_score = evaluate_model(model, val_loader, criterion)"
      ],
      "metadata": {
        "colab": {
          "base_uri": "https://localhost:8080/"
        },
        "id": "IqNXWTNtL_HB",
        "outputId": "213822d2-e96b-41b8-97ff-b8f49a86568d"
      },
      "execution_count": 14,
      "outputs": [
        {
          "output_type": "stream",
          "name": "stdout",
          "text": [
            "Validation - Loss: 0.2273 - F1 Score: 0.9554\n"
          ]
        }
      ]
    },
    {
      "cell_type": "code",
      "source": [
        "epochs = range(1, len(train_f1_scores) + 1)  # Создаем список номеров эпох\n",
        "plt.figure(figsize=(10, 6))  # Задаем размер графика\n",
        "\n",
        "# Строим график\n",
        "plt.plot(epochs, train_f1_scores, label='Train F1-score', marker='o', color='b')\n",
        "\n",
        "\n",
        "plt.xlabel('Epochs')\n",
        "plt.ylabel('F1 Score')\n",
        "plt.title('F1 Score per Epoch')\n",
        "plt.grid(True)\n",
        "plt.legend()\n",
        "\n",
        "plt.show()"
      ],
      "metadata": {
        "id": "mnYMtPLjVRYK",
        "colab": {
          "base_uri": "https://localhost:8080/",
          "height": 560
        },
        "outputId": "f364eeb5-4211-414a-9609-bbbd102b041b"
      },
      "execution_count": 15,
      "outputs": [
        {
          "output_type": "display_data",
          "data": {
            "text/plain": [
              "<Figure size 1000x600 with 1 Axes>"
            ],
            "image/png": "[encoded data removed]"
          },
          "metadata": {}
        }
      ]
    },
    {
      "cell_type": "code",
      "source": [
        "#Функция для предсказания на тестовых данных\n",
        "def predict(model, test_loader):\n",
        "    with torch.no_grad():\n",
        "        logits = []\n",
        "\n",
        "        for inputs in test_loader:\n",
        "            inputs = inputs.to(DEVICE)\n",
        "            model.eval()\n",
        "            outputs = model(inputs).cpu()\n",
        "            logits.append(outputs)\n",
        "\n",
        "    probs = nn.functional.softmax(torch.cat(logits), dim=-1).numpy()\n",
        "    return probs"
      ],
      "metadata": {
        "id": "pQb_68KglxN5"
      },
      "execution_count": 16,
      "outputs": []
    },
    {
      "cell_type": "code",
      "source": [
        "#Стандартная обработка данных для теста\n",
        "test_transforms = transforms.Compose([\n",
        "    transforms.Resize((224, 224)),\n",
        "    transforms.ToTensor(),\n",
        "    transforms.Normalize(mean=[0.485, 0.456, 0.406], std=[0.229, 0.224, 0.225])\n",
        "])\n",
        "\n",
        "test_dataset = SimpsonsDataset(test_files, mode='test', transform=test_transforms)\n",
        "test_loader = DataLoader(test_dataset, batch_size=64, shuffle=False)"
      ],
      "metadata": {
        "id": "5v_wdOQNZP9A"
      },
      "execution_count": 17,
      "outputs": []
    },
    {
      "cell_type": "code",
      "source": [
        "#В этом блоке выполняем предсказания для тестовых данных\n",
        "with open('label_encoder.pkl', 'rb') as file:\n",
        "    label_encoder = pickle.load(file)\n",
        "\n",
        "probs = predict(model, test_loader)\n",
        "predicted_labels = label_encoder.inverse_transform(np.argmax(probs, axis=1))\n",
        "test_filenames = [path.name for path in test_dataset.files]"
      ],
      "metadata": {
        "id": "xsvVT6sTYn3a"
      },
      "execution_count": 18,
      "outputs": []
    },
    {
      "cell_type": "code",
      "source": [
        "#Записываем предсказания в файл\n",
        "import pandas as pd\n",
        "my_submit = pd.read_csv(\"sample_submission.csv\")\n",
        "my_submit = pd.DataFrame({'Id': test_filenames, 'Expected': predicted_labels})\n",
        "my_submit.to_csv('my_submission_9.csv', index=False)"
      ],
      "metadata": {
        "id": "PFvapR4lnFt3"
      },
      "execution_count": 19,
      "outputs": []
    },
    {
      "cell_type": "markdown",
      "source": [
        "Результат: ![image.png](data:image/png;base64,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)"
      ],
      "metadata": {
        "id": "yDEzL9bKF6kq"
      }
    }
  ]
}